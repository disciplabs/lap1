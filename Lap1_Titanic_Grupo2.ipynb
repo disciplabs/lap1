{
  "nbformat": 4,
  "nbformat_minor": 0,
  "metadata": {
    "kernelspec": {
      "display_name": "venvkernel",
      "language": "python",
      "name": "venvkernel"
    },
    "language_info": {
      "codemirror_mode": {
        "name": "ipython",
        "version": 3
      },
      "file_extension": ".py",
      "mimetype": "text/x-python",
      "name": "python",
      "nbconvert_exporter": "python",
      "pygments_lexer": "ipython3",
      "version": "3.9.2"
    },
    "colab": {
      "name": "Lap1_Titanic_Grupo2.ipynb",
      "provenance": []
    }
  },
  "cells": [
    {
      "cell_type": "markdown",
      "metadata": {
        "id": "AnJeOI2srSaT"
      },
      "source": [
        "# Trabalho Laboratório de Pesquisa 1: Dataset Titanic"
      ]
    },
    {
      "cell_type": "markdown",
      "metadata": {
        "id": "x0lY-CdSrSa9"
      },
      "source": [
        "Obs:\n",
        "- adicionar gráficos e comentários (se necessário)\n",
        "- Falta a parte de Explorar o conjunto de dados para obter maior compreensão (EDA)"
      ]
    },
    {
      "cell_type": "markdown",
      "metadata": {
        "id": "_JItThB2rSbB"
      },
      "source": [
        "## 1. Componentes"
      ]
    },
    {
      "cell_type": "markdown",
      "metadata": {
        "id": "Y3Lbo4VurSbD"
      },
      "source": [
        "Integrantes do grupo: <br>\n",
        "Helen França Medeiros: helenfranca93@gmail.com <br>\n",
        "Mayke Willans Christo Pereira: maykewillans@hotmail.com <br>\n",
        "Lia Casati: "
      ]
    },
    {
      "cell_type": "markdown",
      "metadata": {
        "id": "Fzh42moDrSbF"
      },
      "source": [
        "## 2. Apresentação do Dataset"
      ]
    },
    {
      "cell_type": "markdown",
      "metadata": {
        "id": "zbQLR3LqrSbH"
      },
      "source": [
        "### Visão Geral"
      ]
    },
    {
      "cell_type": "markdown",
      "metadata": {
        "id": "m34_o5nqrSbI"
      },
      "source": [
        "#### Descrição da base\n",
        "\n",
        "O naufrágio do Titanic é um dos naufrágios mais famosos da história.\n",
        "\n",
        "Em 15 de abril de 1912, durante sua viagem inaugural, o amplamente considerado \"inafundável\" RMS Titanic afundou após colidir com um iceberg. Infelizmente, não havia botes salva-vidas suficientes para todos a bordo, resultando na morte de 1.502 dos 2.224 passageiros e tripulantes.\n",
        "\n",
        "Embora houvesse algum elemento de sorte envolvido na sobrevivência, parece que alguns grupos de pessoas tinham mais probabilidade de sobreviver do que outros.\n",
        "\n",
        "Assim, o dataset Titanic possui informações (nome, idade, sexo, classe socioeconômica, etc.) sobre os passageiros presentes no na embarcação. Será que, com base nesses dados, é possível prever que tipo de pessoa tem mais probabilidade de sobreviver?\n",
        "\n",
        "#### Objetivo\n",
        "\n",
        "O intuito desta atividade é fazer uma análise sobre quais variáveis tiveram maior influência na probabilidade de sobrevivência (ou seja, que tipo de pessoa teve mais chance de escapar com vida).\n",
        "\n",
        "Após analisar os dados, espera-se também que você seja capaz de construir um modelo que dê a previsão de sobrevivência para um passageiro qualquer que seja fornecido como input."
      ]
    },
    {
      "cell_type": "markdown",
      "metadata": {
        "id": "t4kRscwnrSbL"
      },
      "source": [
        "### Análise do Dataset"
      ]
    },
    {
      "cell_type": "markdown",
      "metadata": {
        "id": "qfdEecR_rSbO"
      },
      "source": [
        "#### Carregar Bibliotecas"
      ]
    },
    {
      "cell_type": "code",
      "metadata": {
        "id": "e7QGVmn4rSbR"
      },
      "source": [
        "import jupyter\n",
        "import sklearn\n",
        "import scipy\n",
        "import matplotlib\n",
        "import numpy as np\n",
        "import pandas as pd\n",
        "import sys\n",
        "import seaborn as sns\n",
        " \n",
        "#from pandas.plotting import scatter_matrix\n",
        "from sklearn.model_selection import train_test_split\n",
        "from sklearn.model_selection import cross_val_score\n",
        "from sklearn.model_selection import StratifiedKFold\n",
        "from sklearn.metrics import classification_report\n",
        "from sklearn.metrics import confusion_matrix\n",
        "from sklearn.metrics import accuracy_score\n",
        "from sklearn.linear_model import LogisticRegression\n",
        "from sklearn.tree import DecisionTreeClassifier\n",
        "from sklearn.neighbors import KNeighborsClassifier\n",
        "from sklearn.discriminant_analysis import LinearDiscriminantAnalysis\n",
        "from sklearn.naive_bayes import GaussianNB\n",
        "from sklearn.svm import SVC\n",
        "from matplotlib import pyplot as plt"
      ],
      "execution_count": 1,
      "outputs": []
    },
    {
      "cell_type": "markdown",
      "metadata": {
        "id": "ZdE9lnwJrSbX"
      },
      "source": [
        "#### Carregar Dataset"
      ]
    },
    {
      "cell_type": "code",
      "metadata": {
        "id": "hmfUzwLUrSba"
      },
      "source": [
        "url = \"https://raw.githubusercontent.com/profmoisesomena/escience_and_tools/master/data/titanic_dados_t.csv\"\n",
        "names = ['PassengerId','Survived','Pclass','Name','Sex','Age','SibSp','Parch','Ticket','Fare','Cabin','Embarked']\n",
        "dataset = pd.read_csv(url, header=0, names=names)"
      ],
      "execution_count": 3,
      "outputs": []
    },
    {
      "cell_type": "markdown",
      "metadata": {
        "id": "1Xg6m554rSbl"
      },
      "source": [
        "#### Exibindo número de linhas e de colunas"
      ]
    },
    {
      "cell_type": "code",
      "metadata": {
        "scrolled": true,
        "colab": {
          "base_uri": "https://localhost:8080/"
        },
        "id": "x_riOIGerSbo",
        "outputId": "bd0961bb-ac1b-470e-ab76-45934c7f91b4"
      },
      "source": [
        "print(dataset.shape)"
      ],
      "execution_count": 4,
      "outputs": [
        {
          "output_type": "stream",
          "text": [
            "(891, 12)\n"
          ],
          "name": "stdout"
        }
      ]
    },
    {
      "cell_type": "markdown",
      "metadata": {
        "id": "lwJBGpNMrSb1"
      },
      "source": [
        "#### Significado dos dados\n",
        "\n",
        "- **PassengerId**: Número de identificação do passageiro\n",
        "- **Survived**: Informa se o passageiro sobreviveu ao desastre \n",
        "    - 0 = Não\n",
        "    - 1 = Sim\n",
        "- **Pclass**: Classe do bilhete\n",
        "    - 1 = 1ª Classe\n",
        "    - 2 = 2ª Classe\n",
        "    - 3 = 3ª Classe\n",
        "- **Name**: Nome do passageiro\n",
        "- **Sex**: Sexo do passageiro\n",
        "- **Age**: Idade do passageiro\n",
        "- **SibSp**: Quantidade de cônjuges e irmãos a bordo\n",
        "- **Parch**: Quantidade de pais e filhos a bordo\n",
        "- **Ticket**: Número da passagem\n",
        "- **Fare**: Preço da Passagem\n",
        "- **Cabin**: Número da cabine do passageiro\n",
        "- **Embarked**: Porto no qual o passageiro embarcou\n",
        "    - C = Cherbourg\n",
        "    - Q = Queenstown\n",
        "    - S = Southampton\n",
        "\n",
        "Atributo alvo: **Survived**"
      ]
    },
    {
      "cell_type": "markdown",
      "metadata": {
        "id": "871i9UfCrSb4"
      },
      "source": [
        "#### Exibindo primeiros elementos"
      ]
    },
    {
      "cell_type": "code",
      "metadata": {
        "colab": {
          "base_uri": "https://localhost:8080/",
          "height": 204
        },
        "id": "-2uJGTmprSb6",
        "outputId": "766aeba7-6ee3-4a10-9e87-0d467c13b7b3"
      },
      "source": [
        "dataset.head()"
      ],
      "execution_count": 5,
      "outputs": [
        {
          "output_type": "execute_result",
          "data": {
            "text/html": [
              "<div>\n",
              "<style scoped>\n",
              "    .dataframe tbody tr th:only-of-type {\n",
              "        vertical-align: middle;\n",
              "    }\n",
              "\n",
              "    .dataframe tbody tr th {\n",
              "        vertical-align: top;\n",
              "    }\n",
              "\n",
              "    .dataframe thead th {\n",
              "        text-align: right;\n",
              "    }\n",
              "</style>\n",
              "<table border=\"1\" class=\"dataframe\">\n",
              "  <thead>\n",
              "    <tr style=\"text-align: right;\">\n",
              "      <th></th>\n",
              "      <th>PassengerId</th>\n",
              "      <th>Survived</th>\n",
              "      <th>Pclass</th>\n",
              "      <th>Name</th>\n",
              "      <th>Sex</th>\n",
              "      <th>Age</th>\n",
              "      <th>SibSp</th>\n",
              "      <th>Parch</th>\n",
              "      <th>Ticket</th>\n",
              "      <th>Fare</th>\n",
              "      <th>Cabin</th>\n",
              "      <th>Embarked</th>\n",
              "    </tr>\n",
              "  </thead>\n",
              "  <tbody>\n",
              "    <tr>\n",
              "      <th>0</th>\n",
              "      <td>1</td>\n",
              "      <td>0</td>\n",
              "      <td>3</td>\n",
              "      <td>Braund, Mr. Owen Harris</td>\n",
              "      <td>male</td>\n",
              "      <td>22.0</td>\n",
              "      <td>1</td>\n",
              "      <td>0</td>\n",
              "      <td>A/5 21171</td>\n",
              "      <td>7.2500</td>\n",
              "      <td>NaN</td>\n",
              "      <td>S</td>\n",
              "    </tr>\n",
              "    <tr>\n",
              "      <th>1</th>\n",
              "      <td>2</td>\n",
              "      <td>1</td>\n",
              "      <td>1</td>\n",
              "      <td>Cumings, Mrs. John Bradley (Florence Briggs Th...</td>\n",
              "      <td>female</td>\n",
              "      <td>38.0</td>\n",
              "      <td>1</td>\n",
              "      <td>0</td>\n",
              "      <td>PC 17599</td>\n",
              "      <td>71.2833</td>\n",
              "      <td>C85</td>\n",
              "      <td>C</td>\n",
              "    </tr>\n",
              "    <tr>\n",
              "      <th>2</th>\n",
              "      <td>3</td>\n",
              "      <td>1</td>\n",
              "      <td>3</td>\n",
              "      <td>Heikkinen, Miss. Laina</td>\n",
              "      <td>female</td>\n",
              "      <td>26.0</td>\n",
              "      <td>0</td>\n",
              "      <td>0</td>\n",
              "      <td>STON/O2. 3101282</td>\n",
              "      <td>7.9250</td>\n",
              "      <td>NaN</td>\n",
              "      <td>S</td>\n",
              "    </tr>\n",
              "    <tr>\n",
              "      <th>3</th>\n",
              "      <td>4</td>\n",
              "      <td>1</td>\n",
              "      <td>1</td>\n",
              "      <td>Futrelle, Mrs. Jacques Heath (Lily May Peel)</td>\n",
              "      <td>female</td>\n",
              "      <td>35.0</td>\n",
              "      <td>1</td>\n",
              "      <td>0</td>\n",
              "      <td>113803</td>\n",
              "      <td>53.1000</td>\n",
              "      <td>C123</td>\n",
              "      <td>S</td>\n",
              "    </tr>\n",
              "    <tr>\n",
              "      <th>4</th>\n",
              "      <td>5</td>\n",
              "      <td>0</td>\n",
              "      <td>3</td>\n",
              "      <td>Allen, Mr. William Henry</td>\n",
              "      <td>male</td>\n",
              "      <td>35.0</td>\n",
              "      <td>0</td>\n",
              "      <td>0</td>\n",
              "      <td>373450</td>\n",
              "      <td>8.0500</td>\n",
              "      <td>NaN</td>\n",
              "      <td>S</td>\n",
              "    </tr>\n",
              "  </tbody>\n",
              "</table>\n",
              "</div>"
            ],
            "text/plain": [
              "   PassengerId  Survived  Pclass  ...     Fare Cabin  Embarked\n",
              "0            1         0       3  ...   7.2500   NaN         S\n",
              "1            2         1       1  ...  71.2833   C85         C\n",
              "2            3         1       3  ...   7.9250   NaN         S\n",
              "3            4         1       1  ...  53.1000  C123         S\n",
              "4            5         0       3  ...   8.0500   NaN         S\n",
              "\n",
              "[5 rows x 12 columns]"
            ]
          },
          "metadata": {
            "tags": []
          },
          "execution_count": 5
        }
      ]
    },
    {
      "cell_type": "markdown",
      "metadata": {
        "id": "MLLCf9_GrSb8"
      },
      "source": [
        "Observando os dados, temos que os tipos dos atributos são:\n",
        "- Numérico:\n",
        "    - 4 variáveis discretas: passengerid, pclass, sibSp e parch\n",
        "    - 2 variáveis contínuas: fare e age\n",
        "- Categórico:\n",
        "    - 1 binário: survived\n",
        "    - 5 variáveis nominais: name, sex, ticket, cabin, embarked."
      ]
    },
    {
      "cell_type": "markdown",
      "metadata": {
        "id": "V9gLnk39rSb-"
      },
      "source": [
        "#### Exibindo dados estatísticos"
      ]
    },
    {
      "cell_type": "code",
      "metadata": {
        "colab": {
          "base_uri": "https://localhost:8080/",
          "height": 266
        },
        "id": "g_5L-qTmrScE",
        "outputId": "1a977ede-c6ea-4b86-e1e4-fbd932c868e2"
      },
      "source": [
        "dataset.describe().T"
      ],
      "execution_count": 6,
      "outputs": [
        {
          "output_type": "execute_result",
          "data": {
            "text/html": [
              "<div>\n",
              "<style scoped>\n",
              "    .dataframe tbody tr th:only-of-type {\n",
              "        vertical-align: middle;\n",
              "    }\n",
              "\n",
              "    .dataframe tbody tr th {\n",
              "        vertical-align: top;\n",
              "    }\n",
              "\n",
              "    .dataframe thead th {\n",
              "        text-align: right;\n",
              "    }\n",
              "</style>\n",
              "<table border=\"1\" class=\"dataframe\">\n",
              "  <thead>\n",
              "    <tr style=\"text-align: right;\">\n",
              "      <th></th>\n",
              "      <th>count</th>\n",
              "      <th>mean</th>\n",
              "      <th>std</th>\n",
              "      <th>min</th>\n",
              "      <th>25%</th>\n",
              "      <th>50%</th>\n",
              "      <th>75%</th>\n",
              "      <th>max</th>\n",
              "    </tr>\n",
              "  </thead>\n",
              "  <tbody>\n",
              "    <tr>\n",
              "      <th>PassengerId</th>\n",
              "      <td>891.0</td>\n",
              "      <td>446.000000</td>\n",
              "      <td>257.353842</td>\n",
              "      <td>1.00</td>\n",
              "      <td>223.5000</td>\n",
              "      <td>446.0000</td>\n",
              "      <td>668.5</td>\n",
              "      <td>891.0000</td>\n",
              "    </tr>\n",
              "    <tr>\n",
              "      <th>Survived</th>\n",
              "      <td>891.0</td>\n",
              "      <td>0.383838</td>\n",
              "      <td>0.486592</td>\n",
              "      <td>0.00</td>\n",
              "      <td>0.0000</td>\n",
              "      <td>0.0000</td>\n",
              "      <td>1.0</td>\n",
              "      <td>1.0000</td>\n",
              "    </tr>\n",
              "    <tr>\n",
              "      <th>Pclass</th>\n",
              "      <td>891.0</td>\n",
              "      <td>2.308642</td>\n",
              "      <td>0.836071</td>\n",
              "      <td>1.00</td>\n",
              "      <td>2.0000</td>\n",
              "      <td>3.0000</td>\n",
              "      <td>3.0</td>\n",
              "      <td>3.0000</td>\n",
              "    </tr>\n",
              "    <tr>\n",
              "      <th>Age</th>\n",
              "      <td>714.0</td>\n",
              "      <td>29.699118</td>\n",
              "      <td>14.526497</td>\n",
              "      <td>0.42</td>\n",
              "      <td>20.1250</td>\n",
              "      <td>28.0000</td>\n",
              "      <td>38.0</td>\n",
              "      <td>80.0000</td>\n",
              "    </tr>\n",
              "    <tr>\n",
              "      <th>SibSp</th>\n",
              "      <td>891.0</td>\n",
              "      <td>0.523008</td>\n",
              "      <td>1.102743</td>\n",
              "      <td>0.00</td>\n",
              "      <td>0.0000</td>\n",
              "      <td>0.0000</td>\n",
              "      <td>1.0</td>\n",
              "      <td>8.0000</td>\n",
              "    </tr>\n",
              "    <tr>\n",
              "      <th>Parch</th>\n",
              "      <td>891.0</td>\n",
              "      <td>0.381594</td>\n",
              "      <td>0.806057</td>\n",
              "      <td>0.00</td>\n",
              "      <td>0.0000</td>\n",
              "      <td>0.0000</td>\n",
              "      <td>0.0</td>\n",
              "      <td>6.0000</td>\n",
              "    </tr>\n",
              "    <tr>\n",
              "      <th>Fare</th>\n",
              "      <td>891.0</td>\n",
              "      <td>32.204208</td>\n",
              "      <td>49.693429</td>\n",
              "      <td>0.00</td>\n",
              "      <td>7.9104</td>\n",
              "      <td>14.4542</td>\n",
              "      <td>31.0</td>\n",
              "      <td>512.3292</td>\n",
              "    </tr>\n",
              "  </tbody>\n",
              "</table>\n",
              "</div>"
            ],
            "text/plain": [
              "             count        mean         std  ...       50%    75%       max\n",
              "PassengerId  891.0  446.000000  257.353842  ...  446.0000  668.5  891.0000\n",
              "Survived     891.0    0.383838    0.486592  ...    0.0000    1.0    1.0000\n",
              "Pclass       891.0    2.308642    0.836071  ...    3.0000    3.0    3.0000\n",
              "Age          714.0   29.699118   14.526497  ...   28.0000   38.0   80.0000\n",
              "SibSp        891.0    0.523008    1.102743  ...    0.0000    1.0    8.0000\n",
              "Parch        891.0    0.381594    0.806057  ...    0.0000    0.0    6.0000\n",
              "Fare         891.0   32.204208   49.693429  ...   14.4542   31.0  512.3292\n",
              "\n",
              "[7 rows x 8 columns]"
            ]
          },
          "metadata": {
            "tags": []
          },
          "execution_count": 6
        }
      ]
    },
    {
      "cell_type": "markdown",
      "metadata": {
        "id": "sY1P_iAtrScG"
      },
      "source": [
        "Podemos notar que na coluna fare a média é 31,64 sendo que a mediana esta em 14,45. Isso significa que temos valores discrepantes distorcendo a distribuição dos valores desta variável. Além disso, outro ponto importante de observar é que a coluna Age possui valores faltantes."
      ]
    },
    {
      "cell_type": "markdown",
      "metadata": {
        "id": "bOGNsI-5rScI"
      },
      "source": [
        "#### Exibindo informações sobre o tipo dos dados"
      ]
    },
    {
      "cell_type": "code",
      "metadata": {
        "scrolled": false,
        "colab": {
          "base_uri": "https://localhost:8080/"
        },
        "id": "uejZlhVYrScK",
        "outputId": "7bc3f49e-9ec9-4de8-834e-1455097c224b"
      },
      "source": [
        "dataset.info()"
      ],
      "execution_count": 7,
      "outputs": [
        {
          "output_type": "stream",
          "text": [
            "<class 'pandas.core.frame.DataFrame'>\n",
            "RangeIndex: 891 entries, 0 to 890\n",
            "Data columns (total 12 columns):\n",
            " #   Column       Non-Null Count  Dtype  \n",
            "---  ------       --------------  -----  \n",
            " 0   PassengerId  891 non-null    int64  \n",
            " 1   Survived     891 non-null    int64  \n",
            " 2   Pclass       891 non-null    int64  \n",
            " 3   Name         891 non-null    object \n",
            " 4   Sex          891 non-null    object \n",
            " 5   Age          714 non-null    float64\n",
            " 6   SibSp        891 non-null    int64  \n",
            " 7   Parch        891 non-null    int64  \n",
            " 8   Ticket       891 non-null    object \n",
            " 9   Fare         891 non-null    float64\n",
            " 10  Cabin        204 non-null    object \n",
            " 11  Embarked     889 non-null    object \n",
            "dtypes: float64(2), int64(5), object(5)\n",
            "memory usage: 83.7+ KB\n"
          ],
          "name": "stdout"
        }
      ]
    },
    {
      "cell_type": "markdown",
      "metadata": {
        "id": "VzvBIBJKrScL"
      },
      "source": [
        "Além dos dados faltantes na coluna Age, temos valores nulos em Cabin e Embarked."
      ]
    },
    {
      "cell_type": "markdown",
      "metadata": {
        "id": "sojl3IW6rScM"
      },
      "source": [
        "#### Verificando dados nulos"
      ]
    },
    {
      "cell_type": "code",
      "metadata": {
        "colab": {
          "base_uri": "https://localhost:8080/",
          "height": 421
        },
        "id": "ATBLesbbrScN",
        "outputId": "1e163127-97a2-4da5-c554-de3f9a7898ff"
      },
      "source": [
        "dataset_T = dataset.describe(include=\"all\").T\n",
        "dataset_T['nulos'] = pd.DataFrame(dataset.isnull().sum())\n",
        "dataset_T['prct_nulo'] = pd.DataFrame(dataset.isna().mean().round(4) * 100)\n",
        "dataset_T[\"type\"] = pd.Series(dataset.dtypes)\n",
        "dataset_T"
      ],
      "execution_count": 8,
      "outputs": [
        {
          "output_type": "execute_result",
          "data": {
            "text/html": [
              "<div>\n",
              "<style scoped>\n",
              "    .dataframe tbody tr th:only-of-type {\n",
              "        vertical-align: middle;\n",
              "    }\n",
              "\n",
              "    .dataframe tbody tr th {\n",
              "        vertical-align: top;\n",
              "    }\n",
              "\n",
              "    .dataframe thead th {\n",
              "        text-align: right;\n",
              "    }\n",
              "</style>\n",
              "<table border=\"1\" class=\"dataframe\">\n",
              "  <thead>\n",
              "    <tr style=\"text-align: right;\">\n",
              "      <th></th>\n",
              "      <th>count</th>\n",
              "      <th>unique</th>\n",
              "      <th>top</th>\n",
              "      <th>freq</th>\n",
              "      <th>mean</th>\n",
              "      <th>std</th>\n",
              "      <th>min</th>\n",
              "      <th>25%</th>\n",
              "      <th>50%</th>\n",
              "      <th>75%</th>\n",
              "      <th>max</th>\n",
              "      <th>nulos</th>\n",
              "      <th>prct_nulo</th>\n",
              "      <th>type</th>\n",
              "    </tr>\n",
              "  </thead>\n",
              "  <tbody>\n",
              "    <tr>\n",
              "      <th>PassengerId</th>\n",
              "      <td>891</td>\n",
              "      <td>NaN</td>\n",
              "      <td>NaN</td>\n",
              "      <td>NaN</td>\n",
              "      <td>446</td>\n",
              "      <td>257.354</td>\n",
              "      <td>1</td>\n",
              "      <td>223.5</td>\n",
              "      <td>446</td>\n",
              "      <td>668.5</td>\n",
              "      <td>891</td>\n",
              "      <td>0</td>\n",
              "      <td>0.00</td>\n",
              "      <td>int64</td>\n",
              "    </tr>\n",
              "    <tr>\n",
              "      <th>Survived</th>\n",
              "      <td>891</td>\n",
              "      <td>NaN</td>\n",
              "      <td>NaN</td>\n",
              "      <td>NaN</td>\n",
              "      <td>0.383838</td>\n",
              "      <td>0.486592</td>\n",
              "      <td>0</td>\n",
              "      <td>0</td>\n",
              "      <td>0</td>\n",
              "      <td>1</td>\n",
              "      <td>1</td>\n",
              "      <td>0</td>\n",
              "      <td>0.00</td>\n",
              "      <td>int64</td>\n",
              "    </tr>\n",
              "    <tr>\n",
              "      <th>Pclass</th>\n",
              "      <td>891</td>\n",
              "      <td>NaN</td>\n",
              "      <td>NaN</td>\n",
              "      <td>NaN</td>\n",
              "      <td>2.30864</td>\n",
              "      <td>0.836071</td>\n",
              "      <td>1</td>\n",
              "      <td>2</td>\n",
              "      <td>3</td>\n",
              "      <td>3</td>\n",
              "      <td>3</td>\n",
              "      <td>0</td>\n",
              "      <td>0.00</td>\n",
              "      <td>int64</td>\n",
              "    </tr>\n",
              "    <tr>\n",
              "      <th>Name</th>\n",
              "      <td>891</td>\n",
              "      <td>891</td>\n",
              "      <td>Allison, Mrs. Hudson J C (Bessie Waldo Daniels)</td>\n",
              "      <td>1</td>\n",
              "      <td>NaN</td>\n",
              "      <td>NaN</td>\n",
              "      <td>NaN</td>\n",
              "      <td>NaN</td>\n",
              "      <td>NaN</td>\n",
              "      <td>NaN</td>\n",
              "      <td>NaN</td>\n",
              "      <td>0</td>\n",
              "      <td>0.00</td>\n",
              "      <td>object</td>\n",
              "    </tr>\n",
              "    <tr>\n",
              "      <th>Sex</th>\n",
              "      <td>891</td>\n",
              "      <td>2</td>\n",
              "      <td>male</td>\n",
              "      <td>577</td>\n",
              "      <td>NaN</td>\n",
              "      <td>NaN</td>\n",
              "      <td>NaN</td>\n",
              "      <td>NaN</td>\n",
              "      <td>NaN</td>\n",
              "      <td>NaN</td>\n",
              "      <td>NaN</td>\n",
              "      <td>0</td>\n",
              "      <td>0.00</td>\n",
              "      <td>object</td>\n",
              "    </tr>\n",
              "    <tr>\n",
              "      <th>Age</th>\n",
              "      <td>714</td>\n",
              "      <td>NaN</td>\n",
              "      <td>NaN</td>\n",
              "      <td>NaN</td>\n",
              "      <td>29.6991</td>\n",
              "      <td>14.5265</td>\n",
              "      <td>0.42</td>\n",
              "      <td>20.125</td>\n",
              "      <td>28</td>\n",
              "      <td>38</td>\n",
              "      <td>80</td>\n",
              "      <td>177</td>\n",
              "      <td>19.87</td>\n",
              "      <td>float64</td>\n",
              "    </tr>\n",
              "    <tr>\n",
              "      <th>SibSp</th>\n",
              "      <td>891</td>\n",
              "      <td>NaN</td>\n",
              "      <td>NaN</td>\n",
              "      <td>NaN</td>\n",
              "      <td>0.523008</td>\n",
              "      <td>1.10274</td>\n",
              "      <td>0</td>\n",
              "      <td>0</td>\n",
              "      <td>0</td>\n",
              "      <td>1</td>\n",
              "      <td>8</td>\n",
              "      <td>0</td>\n",
              "      <td>0.00</td>\n",
              "      <td>int64</td>\n",
              "    </tr>\n",
              "    <tr>\n",
              "      <th>Parch</th>\n",
              "      <td>891</td>\n",
              "      <td>NaN</td>\n",
              "      <td>NaN</td>\n",
              "      <td>NaN</td>\n",
              "      <td>0.381594</td>\n",
              "      <td>0.806057</td>\n",
              "      <td>0</td>\n",
              "      <td>0</td>\n",
              "      <td>0</td>\n",
              "      <td>0</td>\n",
              "      <td>6</td>\n",
              "      <td>0</td>\n",
              "      <td>0.00</td>\n",
              "      <td>int64</td>\n",
              "    </tr>\n",
              "    <tr>\n",
              "      <th>Ticket</th>\n",
              "      <td>891</td>\n",
              "      <td>681</td>\n",
              "      <td>347082</td>\n",
              "      <td>7</td>\n",
              "      <td>NaN</td>\n",
              "      <td>NaN</td>\n",
              "      <td>NaN</td>\n",
              "      <td>NaN</td>\n",
              "      <td>NaN</td>\n",
              "      <td>NaN</td>\n",
              "      <td>NaN</td>\n",
              "      <td>0</td>\n",
              "      <td>0.00</td>\n",
              "      <td>object</td>\n",
              "    </tr>\n",
              "    <tr>\n",
              "      <th>Fare</th>\n",
              "      <td>891</td>\n",
              "      <td>NaN</td>\n",
              "      <td>NaN</td>\n",
              "      <td>NaN</td>\n",
              "      <td>32.2042</td>\n",
              "      <td>49.6934</td>\n",
              "      <td>0</td>\n",
              "      <td>7.9104</td>\n",
              "      <td>14.4542</td>\n",
              "      <td>31</td>\n",
              "      <td>512.329</td>\n",
              "      <td>0</td>\n",
              "      <td>0.00</td>\n",
              "      <td>float64</td>\n",
              "    </tr>\n",
              "    <tr>\n",
              "      <th>Cabin</th>\n",
              "      <td>204</td>\n",
              "      <td>147</td>\n",
              "      <td>B96 B98</td>\n",
              "      <td>4</td>\n",
              "      <td>NaN</td>\n",
              "      <td>NaN</td>\n",
              "      <td>NaN</td>\n",
              "      <td>NaN</td>\n",
              "      <td>NaN</td>\n",
              "      <td>NaN</td>\n",
              "      <td>NaN</td>\n",
              "      <td>687</td>\n",
              "      <td>77.10</td>\n",
              "      <td>object</td>\n",
              "    </tr>\n",
              "    <tr>\n",
              "      <th>Embarked</th>\n",
              "      <td>889</td>\n",
              "      <td>3</td>\n",
              "      <td>S</td>\n",
              "      <td>644</td>\n",
              "      <td>NaN</td>\n",
              "      <td>NaN</td>\n",
              "      <td>NaN</td>\n",
              "      <td>NaN</td>\n",
              "      <td>NaN</td>\n",
              "      <td>NaN</td>\n",
              "      <td>NaN</td>\n",
              "      <td>2</td>\n",
              "      <td>0.22</td>\n",
              "      <td>object</td>\n",
              "    </tr>\n",
              "  </tbody>\n",
              "</table>\n",
              "</div>"
            ],
            "text/plain": [
              "            count unique  ... prct_nulo     type\n",
              "PassengerId   891    NaN  ...      0.00    int64\n",
              "Survived      891    NaN  ...      0.00    int64\n",
              "Pclass        891    NaN  ...      0.00    int64\n",
              "Name          891    891  ...      0.00   object\n",
              "Sex           891      2  ...      0.00   object\n",
              "Age           714    NaN  ...     19.87  float64\n",
              "SibSp         891    NaN  ...      0.00    int64\n",
              "Parch         891    NaN  ...      0.00    int64\n",
              "Ticket        891    681  ...      0.00   object\n",
              "Fare          891    NaN  ...      0.00  float64\n",
              "Cabin         204    147  ...     77.10   object\n",
              "Embarked      889      3  ...      0.22   object\n",
              "\n",
              "[12 rows x 14 columns]"
            ]
          },
          "metadata": {
            "tags": []
          },
          "execution_count": 8
        }
      ]
    },
    {
      "cell_type": "code",
      "metadata": {
        "colab": {
          "base_uri": "https://localhost:8080/"
        },
        "id": "v8JlEHJirScS",
        "outputId": "4f9ba40b-002f-4995-ce06-ea04f0f5262c"
      },
      "source": [
        "dataset.isnull().sum() / dataset.shape[0]"
      ],
      "execution_count": 9,
      "outputs": [
        {
          "output_type": "execute_result",
          "data": {
            "text/plain": [
              "PassengerId    0.000000\n",
              "Survived       0.000000\n",
              "Pclass         0.000000\n",
              "Name           0.000000\n",
              "Sex            0.000000\n",
              "Age            0.198653\n",
              "SibSp          0.000000\n",
              "Parch          0.000000\n",
              "Ticket         0.000000\n",
              "Fare           0.000000\n",
              "Cabin          0.771044\n",
              "Embarked       0.002245\n",
              "dtype: float64"
            ]
          },
          "metadata": {
            "tags": []
          },
          "execution_count": 9
        }
      ]
    },
    {
      "cell_type": "markdown",
      "metadata": {
        "id": "kItmLPDwrScV"
      },
      "source": [
        "As colunas Cabin e Embarked possuem, respectivamente, 77.10% e 0.22% de dados faltantes. Além dessas, há 19.87% de passageiros sem informações sobre a idade."
      ]
    },
    {
      "cell_type": "markdown",
      "metadata": {
        "id": "D0pWiAwyrScX"
      },
      "source": [
        "#### Verificando se há dados duplicados"
      ]
    },
    {
      "cell_type": "code",
      "metadata": {
        "colab": {
          "base_uri": "https://localhost:8080/"
        },
        "id": "H1ThujexrScY",
        "outputId": "9832d5af-96de-4d2d-fe39-19fcd49f939d"
      },
      "source": [
        "dataset.duplicated()"
      ],
      "execution_count": 10,
      "outputs": [
        {
          "output_type": "execute_result",
          "data": {
            "text/plain": [
              "0      False\n",
              "1      False\n",
              "2      False\n",
              "3      False\n",
              "4      False\n",
              "       ...  \n",
              "886    False\n",
              "887    False\n",
              "888    False\n",
              "889    False\n",
              "890    False\n",
              "Length: 891, dtype: bool"
            ]
          },
          "metadata": {
            "tags": []
          },
          "execution_count": 10
        }
      ]
    },
    {
      "cell_type": "markdown",
      "metadata": {
        "id": "pFipeek3rSca"
      },
      "source": [
        "Não há dados duplicados"
      ]
    },
    {
      "cell_type": "markdown",
      "metadata": {
        "id": "STbEzoy3rScb"
      },
      "source": [
        "## 3. Pré-processamento do Dataset"
      ]
    },
    {
      "cell_type": "markdown",
      "metadata": {
        "id": "vSKZYxUQrScf"
      },
      "source": [
        "#### Tratando a coluna Age"
      ]
    },
    {
      "cell_type": "markdown",
      "metadata": {
        "id": "CKtHjH6YrScl"
      },
      "source": [
        "############# Fazer um gráfico desse trem aqui em baixo"
      ]
    },
    {
      "cell_type": "markdown",
      "metadata": {
        "id": "Z4zOicLnrScn"
      },
      "source": [
        "Visando maior acerto na imputação dos dados, vamos nos apoiar na média de idade contando com duas variáveis: Sex e Title\n",
        "<br>Title é a coluna criada com o pronome de tratamento extraído do nome do passageiro."
      ]
    },
    {
      "cell_type": "code",
      "metadata": {
        "id": "84ymiAt2rScq"
      },
      "source": [
        "def extrairTitulo(df):\n",
        "  df['Title'] = df.Name.apply(lambda x: x.split(',')[1].split('.')[0].strip().lower())\n",
        "\n",
        "extrairTitulo(dataset)"
      ],
      "execution_count": 13,
      "outputs": []
    },
    {
      "cell_type": "markdown",
      "metadata": {
        "id": "nmO_Mb7xrSct"
      },
      "source": [
        "Dataset com a coluna Title"
      ]
    },
    {
      "cell_type": "code",
      "metadata": {
        "colab": {
          "base_uri": "https://localhost:8080/",
          "height": 452
        },
        "id": "UN7NCziHrScw",
        "outputId": "8377b91c-3e40-4b36-ea94-e266b6a330c3"
      },
      "source": [
        "dataset.describe(include='all').T"
      ],
      "execution_count": 14,
      "outputs": [
        {
          "output_type": "execute_result",
          "data": {
            "text/html": [
              "<div>\n",
              "<style scoped>\n",
              "    .dataframe tbody tr th:only-of-type {\n",
              "        vertical-align: middle;\n",
              "    }\n",
              "\n",
              "    .dataframe tbody tr th {\n",
              "        vertical-align: top;\n",
              "    }\n",
              "\n",
              "    .dataframe thead th {\n",
              "        text-align: right;\n",
              "    }\n",
              "</style>\n",
              "<table border=\"1\" class=\"dataframe\">\n",
              "  <thead>\n",
              "    <tr style=\"text-align: right;\">\n",
              "      <th></th>\n",
              "      <th>count</th>\n",
              "      <th>unique</th>\n",
              "      <th>top</th>\n",
              "      <th>freq</th>\n",
              "      <th>mean</th>\n",
              "      <th>std</th>\n",
              "      <th>min</th>\n",
              "      <th>25%</th>\n",
              "      <th>50%</th>\n",
              "      <th>75%</th>\n",
              "      <th>max</th>\n",
              "    </tr>\n",
              "  </thead>\n",
              "  <tbody>\n",
              "    <tr>\n",
              "      <th>PassengerId</th>\n",
              "      <td>891</td>\n",
              "      <td>NaN</td>\n",
              "      <td>NaN</td>\n",
              "      <td>NaN</td>\n",
              "      <td>446</td>\n",
              "      <td>257.354</td>\n",
              "      <td>1</td>\n",
              "      <td>223.5</td>\n",
              "      <td>446</td>\n",
              "      <td>668.5</td>\n",
              "      <td>891</td>\n",
              "    </tr>\n",
              "    <tr>\n",
              "      <th>Survived</th>\n",
              "      <td>891</td>\n",
              "      <td>NaN</td>\n",
              "      <td>NaN</td>\n",
              "      <td>NaN</td>\n",
              "      <td>0.383838</td>\n",
              "      <td>0.486592</td>\n",
              "      <td>0</td>\n",
              "      <td>0</td>\n",
              "      <td>0</td>\n",
              "      <td>1</td>\n",
              "      <td>1</td>\n",
              "    </tr>\n",
              "    <tr>\n",
              "      <th>Pclass</th>\n",
              "      <td>891</td>\n",
              "      <td>NaN</td>\n",
              "      <td>NaN</td>\n",
              "      <td>NaN</td>\n",
              "      <td>2.30864</td>\n",
              "      <td>0.836071</td>\n",
              "      <td>1</td>\n",
              "      <td>2</td>\n",
              "      <td>3</td>\n",
              "      <td>3</td>\n",
              "      <td>3</td>\n",
              "    </tr>\n",
              "    <tr>\n",
              "      <th>Name</th>\n",
              "      <td>891</td>\n",
              "      <td>891</td>\n",
              "      <td>Allison, Mrs. Hudson J C (Bessie Waldo Daniels)</td>\n",
              "      <td>1</td>\n",
              "      <td>NaN</td>\n",
              "      <td>NaN</td>\n",
              "      <td>NaN</td>\n",
              "      <td>NaN</td>\n",
              "      <td>NaN</td>\n",
              "      <td>NaN</td>\n",
              "      <td>NaN</td>\n",
              "    </tr>\n",
              "    <tr>\n",
              "      <th>Sex</th>\n",
              "      <td>891</td>\n",
              "      <td>2</td>\n",
              "      <td>male</td>\n",
              "      <td>577</td>\n",
              "      <td>NaN</td>\n",
              "      <td>NaN</td>\n",
              "      <td>NaN</td>\n",
              "      <td>NaN</td>\n",
              "      <td>NaN</td>\n",
              "      <td>NaN</td>\n",
              "      <td>NaN</td>\n",
              "    </tr>\n",
              "    <tr>\n",
              "      <th>Age</th>\n",
              "      <td>714</td>\n",
              "      <td>NaN</td>\n",
              "      <td>NaN</td>\n",
              "      <td>NaN</td>\n",
              "      <td>29.6991</td>\n",
              "      <td>14.5265</td>\n",
              "      <td>0.42</td>\n",
              "      <td>20.125</td>\n",
              "      <td>28</td>\n",
              "      <td>38</td>\n",
              "      <td>80</td>\n",
              "    </tr>\n",
              "    <tr>\n",
              "      <th>SibSp</th>\n",
              "      <td>891</td>\n",
              "      <td>NaN</td>\n",
              "      <td>NaN</td>\n",
              "      <td>NaN</td>\n",
              "      <td>0.523008</td>\n",
              "      <td>1.10274</td>\n",
              "      <td>0</td>\n",
              "      <td>0</td>\n",
              "      <td>0</td>\n",
              "      <td>1</td>\n",
              "      <td>8</td>\n",
              "    </tr>\n",
              "    <tr>\n",
              "      <th>Parch</th>\n",
              "      <td>891</td>\n",
              "      <td>NaN</td>\n",
              "      <td>NaN</td>\n",
              "      <td>NaN</td>\n",
              "      <td>0.381594</td>\n",
              "      <td>0.806057</td>\n",
              "      <td>0</td>\n",
              "      <td>0</td>\n",
              "      <td>0</td>\n",
              "      <td>0</td>\n",
              "      <td>6</td>\n",
              "    </tr>\n",
              "    <tr>\n",
              "      <th>Ticket</th>\n",
              "      <td>891</td>\n",
              "      <td>681</td>\n",
              "      <td>347082</td>\n",
              "      <td>7</td>\n",
              "      <td>NaN</td>\n",
              "      <td>NaN</td>\n",
              "      <td>NaN</td>\n",
              "      <td>NaN</td>\n",
              "      <td>NaN</td>\n",
              "      <td>NaN</td>\n",
              "      <td>NaN</td>\n",
              "    </tr>\n",
              "    <tr>\n",
              "      <th>Fare</th>\n",
              "      <td>891</td>\n",
              "      <td>NaN</td>\n",
              "      <td>NaN</td>\n",
              "      <td>NaN</td>\n",
              "      <td>32.2042</td>\n",
              "      <td>49.6934</td>\n",
              "      <td>0</td>\n",
              "      <td>7.9104</td>\n",
              "      <td>14.4542</td>\n",
              "      <td>31</td>\n",
              "      <td>512.329</td>\n",
              "    </tr>\n",
              "    <tr>\n",
              "      <th>Cabin</th>\n",
              "      <td>204</td>\n",
              "      <td>147</td>\n",
              "      <td>B96 B98</td>\n",
              "      <td>4</td>\n",
              "      <td>NaN</td>\n",
              "      <td>NaN</td>\n",
              "      <td>NaN</td>\n",
              "      <td>NaN</td>\n",
              "      <td>NaN</td>\n",
              "      <td>NaN</td>\n",
              "      <td>NaN</td>\n",
              "    </tr>\n",
              "    <tr>\n",
              "      <th>Embarked</th>\n",
              "      <td>889</td>\n",
              "      <td>3</td>\n",
              "      <td>S</td>\n",
              "      <td>644</td>\n",
              "      <td>NaN</td>\n",
              "      <td>NaN</td>\n",
              "      <td>NaN</td>\n",
              "      <td>NaN</td>\n",
              "      <td>NaN</td>\n",
              "      <td>NaN</td>\n",
              "      <td>NaN</td>\n",
              "    </tr>\n",
              "    <tr>\n",
              "      <th>Title</th>\n",
              "      <td>891</td>\n",
              "      <td>17</td>\n",
              "      <td>mr</td>\n",
              "      <td>517</td>\n",
              "      <td>NaN</td>\n",
              "      <td>NaN</td>\n",
              "      <td>NaN</td>\n",
              "      <td>NaN</td>\n",
              "      <td>NaN</td>\n",
              "      <td>NaN</td>\n",
              "      <td>NaN</td>\n",
              "    </tr>\n",
              "  </tbody>\n",
              "</table>\n",
              "</div>"
            ],
            "text/plain": [
              "            count unique  ...    75%      max\n",
              "PassengerId   891    NaN  ...  668.5      891\n",
              "Survived      891    NaN  ...      1        1\n",
              "Pclass        891    NaN  ...      3        3\n",
              "Name          891    891  ...    NaN      NaN\n",
              "Sex           891      2  ...    NaN      NaN\n",
              "Age           714    NaN  ...     38       80\n",
              "SibSp         891    NaN  ...      1        8\n",
              "Parch         891    NaN  ...      0        6\n",
              "Ticket        891    681  ...    NaN      NaN\n",
              "Fare          891    NaN  ...     31  512.329\n",
              "Cabin         204    147  ...    NaN      NaN\n",
              "Embarked      889      3  ...    NaN      NaN\n",
              "Title         891     17  ...    NaN      NaN\n",
              "\n",
              "[13 rows x 11 columns]"
            ]
          },
          "metadata": {
            "tags": []
          },
          "execution_count": 14
        }
      ]
    },
    {
      "cell_type": "markdown",
      "metadata": {
        "id": "D3BiRdDOsEuz"
      },
      "source": [
        "Verificando a média de idade por Title e Sex"
      ]
    },
    {
      "cell_type": "code",
      "metadata": {
        "colab": {
          "base_uri": "https://localhost:8080/"
        },
        "id": "v9BCpnOlrSc2",
        "outputId": "9abbb7ea-cb12-49f2-d384-6f58ab252087"
      },
      "source": [
        "age_by_title_sex = dataset.groupby(['Sex', 'Title']).mean()['Age']\n",
        "print(age_by_title_sex)"
      ],
      "execution_count": 16,
      "outputs": [
        {
          "output_type": "stream",
          "text": [
            "Sex     Title       \n",
            "female  dr              49.000000\n",
            "        lady            48.000000\n",
            "        miss            21.773973\n",
            "        mlle            24.000000\n",
            "        mme             24.000000\n",
            "        mrs             35.898148\n",
            "        ms              28.000000\n",
            "        the countess    33.000000\n",
            "male    capt            70.000000\n",
            "        col             58.000000\n",
            "        don             40.000000\n",
            "        dr              40.600000\n",
            "        jonkheer        38.000000\n",
            "        major           48.500000\n",
            "        master           4.574167\n",
            "        mr              32.368090\n",
            "        rev             43.166667\n",
            "        sir             49.000000\n",
            "Name: Age, dtype: float64\n"
          ],
          "name": "stdout"
        }
      ]
    },
    {
      "cell_type": "markdown",
      "metadata": {
        "id": "Vk6a4y79rSc2"
      },
      "source": [
        "Podemos tratar os valores faltantes da coluna Age conforme as classes Title e Sex "
      ]
    },
    {
      "cell_type": "code",
      "metadata": {
        "id": "PbQ67n7crSc3"
      },
      "source": [
        "dataset['Age'] = dataset.groupby(['Sex', 'Title'])['Age'].apply(lambda x: x.fillna(x.mean()))"
      ],
      "execution_count": 17,
      "outputs": []
    },
    {
      "cell_type": "markdown",
      "metadata": {
        "id": "9zxtfsq-sX9F"
      },
      "source": [
        "Dataset atualizado"
      ]
    },
    {
      "cell_type": "code",
      "metadata": {
        "id": "HfnCemgGsXad",
        "outputId": "3dfe1e8a-dbb3-471d-d0c6-73cb969ad00c",
        "colab": {
          "base_uri": "https://localhost:8080/",
          "height": 266
        }
      },
      "source": [
        "dataset.describe().T"
      ],
      "execution_count": 18,
      "outputs": [
        {
          "output_type": "execute_result",
          "data": {
            "text/html": [
              "<div>\n",
              "<style scoped>\n",
              "    .dataframe tbody tr th:only-of-type {\n",
              "        vertical-align: middle;\n",
              "    }\n",
              "\n",
              "    .dataframe tbody tr th {\n",
              "        vertical-align: top;\n",
              "    }\n",
              "\n",
              "    .dataframe thead th {\n",
              "        text-align: right;\n",
              "    }\n",
              "</style>\n",
              "<table border=\"1\" class=\"dataframe\">\n",
              "  <thead>\n",
              "    <tr style=\"text-align: right;\">\n",
              "      <th></th>\n",
              "      <th>count</th>\n",
              "      <th>mean</th>\n",
              "      <th>std</th>\n",
              "      <th>min</th>\n",
              "      <th>25%</th>\n",
              "      <th>50%</th>\n",
              "      <th>75%</th>\n",
              "      <th>max</th>\n",
              "    </tr>\n",
              "  </thead>\n",
              "  <tbody>\n",
              "    <tr>\n",
              "      <th>PassengerId</th>\n",
              "      <td>891.0</td>\n",
              "      <td>446.000000</td>\n",
              "      <td>257.353842</td>\n",
              "      <td>1.00</td>\n",
              "      <td>223.500000</td>\n",
              "      <td>446.0000</td>\n",
              "      <td>668.500000</td>\n",
              "      <td>891.0000</td>\n",
              "    </tr>\n",
              "    <tr>\n",
              "      <th>Survived</th>\n",
              "      <td>891.0</td>\n",
              "      <td>0.383838</td>\n",
              "      <td>0.486592</td>\n",
              "      <td>0.00</td>\n",
              "      <td>0.000000</td>\n",
              "      <td>0.0000</td>\n",
              "      <td>1.000000</td>\n",
              "      <td>1.0000</td>\n",
              "    </tr>\n",
              "    <tr>\n",
              "      <th>Pclass</th>\n",
              "      <td>891.0</td>\n",
              "      <td>2.308642</td>\n",
              "      <td>0.836071</td>\n",
              "      <td>1.00</td>\n",
              "      <td>2.000000</td>\n",
              "      <td>3.0000</td>\n",
              "      <td>3.000000</td>\n",
              "      <td>3.0000</td>\n",
              "    </tr>\n",
              "    <tr>\n",
              "      <th>Age</th>\n",
              "      <td>891.0</td>\n",
              "      <td>29.753088</td>\n",
              "      <td>13.275811</td>\n",
              "      <td>0.42</td>\n",
              "      <td>21.773973</td>\n",
              "      <td>30.0000</td>\n",
              "      <td>35.898148</td>\n",
              "      <td>80.0000</td>\n",
              "    </tr>\n",
              "    <tr>\n",
              "      <th>SibSp</th>\n",
              "      <td>891.0</td>\n",
              "      <td>0.523008</td>\n",
              "      <td>1.102743</td>\n",
              "      <td>0.00</td>\n",
              "      <td>0.000000</td>\n",
              "      <td>0.0000</td>\n",
              "      <td>1.000000</td>\n",
              "      <td>8.0000</td>\n",
              "    </tr>\n",
              "    <tr>\n",
              "      <th>Parch</th>\n",
              "      <td>891.0</td>\n",
              "      <td>0.381594</td>\n",
              "      <td>0.806057</td>\n",
              "      <td>0.00</td>\n",
              "      <td>0.000000</td>\n",
              "      <td>0.0000</td>\n",
              "      <td>0.000000</td>\n",
              "      <td>6.0000</td>\n",
              "    </tr>\n",
              "    <tr>\n",
              "      <th>Fare</th>\n",
              "      <td>891.0</td>\n",
              "      <td>32.204208</td>\n",
              "      <td>49.693429</td>\n",
              "      <td>0.00</td>\n",
              "      <td>7.910400</td>\n",
              "      <td>14.4542</td>\n",
              "      <td>31.000000</td>\n",
              "      <td>512.3292</td>\n",
              "    </tr>\n",
              "  </tbody>\n",
              "</table>\n",
              "</div>"
            ],
            "text/plain": [
              "             count        mean         std  ...       50%         75%       max\n",
              "PassengerId  891.0  446.000000  257.353842  ...  446.0000  668.500000  891.0000\n",
              "Survived     891.0    0.383838    0.486592  ...    0.0000    1.000000    1.0000\n",
              "Pclass       891.0    2.308642    0.836071  ...    3.0000    3.000000    3.0000\n",
              "Age          891.0   29.753088   13.275811  ...   30.0000   35.898148   80.0000\n",
              "SibSp        891.0    0.523008    1.102743  ...    0.0000    1.000000    8.0000\n",
              "Parch        891.0    0.381594    0.806057  ...    0.0000    0.000000    6.0000\n",
              "Fare         891.0   32.204208   49.693429  ...   14.4542   31.000000  512.3292\n",
              "\n",
              "[7 rows x 8 columns]"
            ]
          },
          "metadata": {
            "tags": []
          },
          "execution_count": 18
        }
      ]
    },
    {
      "cell_type": "markdown",
      "metadata": {
        "id": "BQ-NyNanrSc4"
      },
      "source": [
        "#### Tratando a coluna Cabin"
      ]
    },
    {
      "cell_type": "code",
      "metadata": {
        "colab": {
          "base_uri": "https://localhost:8080/"
        },
        "id": "3aYS6RYcrSc4",
        "outputId": "2acce465-6344-47d0-b998-36160fcadd9d"
      },
      "source": [
        "dataset.groupby('Cabin').size()"
      ],
      "execution_count": 19,
      "outputs": [
        {
          "output_type": "execute_result",
          "data": {
            "text/plain": [
              "Cabin\n",
              "A10    1\n",
              "A14    1\n",
              "A16    1\n",
              "A19    1\n",
              "A20    1\n",
              "      ..\n",
              "F33    3\n",
              "F38    1\n",
              "F4     2\n",
              "G6     4\n",
              "T      1\n",
              "Length: 147, dtype: int64"
            ]
          },
          "metadata": {
            "tags": []
          },
          "execution_count": 19
        }
      ]
    },
    {
      "cell_type": "markdown",
      "metadata": {
        "id": "wUBB8ucbrSc5"
      },
      "source": [
        "Os dados da coluna Cabin são conjuntos de letras e números."
      ]
    },
    {
      "cell_type": "code",
      "metadata": {
        "colab": {
          "base_uri": "https://localhost:8080/"
        },
        "id": "6g8NdN-GrSc6",
        "outputId": "8057ebac-fe08-4a04-8494-982ec56649cf"
      },
      "source": [
        "dataset['Cabin'] = dataset['Cabin'].str[0].str.upper().str.strip()\n",
        "dataset.groupby('Pclass')['Cabin'].value_counts()"
      ],
      "execution_count": 20,
      "outputs": [
        {
          "output_type": "execute_result",
          "data": {
            "text/plain": [
              "Pclass  Cabin\n",
              "1       C        59\n",
              "        B        47\n",
              "        D        29\n",
              "        E        25\n",
              "        A        15\n",
              "        T         1\n",
              "2       F         8\n",
              "        D         4\n",
              "        E         4\n",
              "3       F         5\n",
              "        G         4\n",
              "        E         3\n",
              "Name: Cabin, dtype: int64"
            ]
          },
          "metadata": {
            "tags": []
          },
          "execution_count": 20
        }
      ]
    },
    {
      "cell_type": "markdown",
      "metadata": {
        "id": "ormoWCCFrSc7"
      },
      "source": [
        "Separando as cabines por classe, temos:\n",
        "- Classe 1 - A, B, C, D, E, T\n",
        "- Classe 2 - D, E, F\n",
        "- Classe 3 - E, G, F\n",
        "\n",
        "Vamos identificar com a letra N as linhas que possuem valores nulos e verificar a distribuição dos dados"
      ]
    },
    {
      "cell_type": "code",
      "metadata": {
        "id": "bAgD_nsFrSc8"
      },
      "source": [
        "dataset['Cabin'] = dataset['Cabin'].fillna('N')"
      ],
      "execution_count": 21,
      "outputs": []
    },
    {
      "cell_type": "code",
      "metadata": {
        "colab": {
          "base_uri": "https://localhost:8080/"
        },
        "id": "V_szD11JrSc8",
        "outputId": "0f1513ca-0812-416b-c06b-551eb7eedb0b"
      },
      "source": [
        "dataset.groupby('Cabin').size()"
      ],
      "execution_count": 22,
      "outputs": [
        {
          "output_type": "execute_result",
          "data": {
            "text/plain": [
              "Cabin\n",
              "A     15\n",
              "B     47\n",
              "C     59\n",
              "D     33\n",
              "E     32\n",
              "F     13\n",
              "G      4\n",
              "N    687\n",
              "T      1\n",
              "dtype: int64"
            ]
          },
          "metadata": {
            "tags": []
          },
          "execution_count": 22
        }
      ]
    },
    {
      "cell_type": "markdown",
      "metadata": {
        "id": "Sqz5Um7erSc9"
      },
      "source": [
        "Atualizando o dataset"
      ]
    },
    {
      "cell_type": "code",
      "metadata": {
        "colab": {
          "base_uri": "https://localhost:8080/"
        },
        "id": "5zadDGH2rSc9",
        "outputId": "840dfebb-fc27-46bd-eedb-0bebfbb8ecf6"
      },
      "source": [
        "dataset.isnull().sum() / dataset.shape[0]"
      ],
      "execution_count": 23,
      "outputs": [
        {
          "output_type": "execute_result",
          "data": {
            "text/plain": [
              "PassengerId    0.000000\n",
              "Survived       0.000000\n",
              "Pclass         0.000000\n",
              "Name           0.000000\n",
              "Sex            0.000000\n",
              "Age            0.000000\n",
              "SibSp          0.000000\n",
              "Parch          0.000000\n",
              "Ticket         0.000000\n",
              "Fare           0.000000\n",
              "Cabin          0.000000\n",
              "Embarked       0.002245\n",
              "Title          0.000000\n",
              "dtype: float64"
            ]
          },
          "metadata": {
            "tags": []
          },
          "execution_count": 23
        }
      ]
    },
    {
      "cell_type": "markdown",
      "metadata": {
        "id": "dM5lXqlLrSc-"
      },
      "source": [
        "Por fim, vamos aplicar a técnica One-Hot Encoding na coluna Cabin"
      ]
    },
    {
      "cell_type": "code",
      "metadata": {
        "id": "kkp1g3E8rSc_"
      },
      "source": [
        "cabin_dummies = pd.get_dummies(dataset['Cabin'], prefix='Cabin')\n",
        "dataset = pd.concat([dataset, cabin_dummies], axis=1)\n",
        "dataset.drop('Cabin', axis=1, inplace=True)"
      ],
      "execution_count": 24,
      "outputs": []
    },
    {
      "cell_type": "markdown",
      "metadata": {
        "id": "regMANnurSdA"
      },
      "source": [
        "Como so temos um registro na cabine T, vamos desconsiderá-la do dataset"
      ]
    },
    {
      "cell_type": "code",
      "metadata": {
        "id": "Ao8Bkey3rSdD"
      },
      "source": [
        "dataset.drop('Cabin_T', axis=1, inplace=True)"
      ],
      "execution_count": 25,
      "outputs": []
    },
    {
      "cell_type": "markdown",
      "metadata": {
        "id": "1lC3WqiprSdF"
      },
      "source": [
        "#### Tratando a coluna Sex"
      ]
    },
    {
      "cell_type": "code",
      "metadata": {
        "id": "qApX-WTRrSdG"
      },
      "source": [
        "dataset['Sex'] = dataset['Sex'].map({'male': 0, 'female': 1})"
      ],
      "execution_count": 26,
      "outputs": []
    },
    {
      "cell_type": "markdown",
      "metadata": {
        "id": "NLBMxVcPrSdH"
      },
      "source": [
        "#### Tratando a coluna Embarked"
      ]
    },
    {
      "cell_type": "code",
      "metadata": {
        "colab": {
          "base_uri": "https://localhost:8080/"
        },
        "id": "DBppBEFHrSdJ",
        "outputId": "897b0e5b-82a0-4978-a84f-3796093dc4a1"
      },
      "source": [
        "dataset.groupby('Embarked').size()"
      ],
      "execution_count": 27,
      "outputs": [
        {
          "output_type": "execute_result",
          "data": {
            "text/plain": [
              "Embarked\n",
              "C    168\n",
              "Q     77\n",
              "S    644\n",
              "dtype: int64"
            ]
          },
          "metadata": {
            "tags": []
          },
          "execution_count": 27
        }
      ]
    },
    {
      "cell_type": "markdown",
      "metadata": {
        "id": "nEFghp0vrSdL"
      },
      "source": [
        "Aqui também vamos aplicar a técnica One-Hot Encoding"
      ]
    },
    {
      "cell_type": "code",
      "metadata": {
        "id": "dvI5bbbZrSdL"
      },
      "source": [
        "embarked_dummies = pd.get_dummies(dataset['Embarked'], prefix='Embarked')\n",
        "dataset = pd.concat([dataset, embarked_dummies], axis=1)\n",
        "dataset.drop('Embarked', axis=1, inplace=True)"
      ],
      "execution_count": 28,
      "outputs": []
    },
    {
      "cell_type": "markdown",
      "metadata": {
        "id": "v9epDGJirSdM"
      },
      "source": [
        "Dataset atualizado"
      ]
    },
    {
      "cell_type": "code",
      "metadata": {
        "colab": {
          "base_uri": "https://localhost:8080/",
          "height": 496
        },
        "id": "MtoBKITxrSdN",
        "outputId": "ffb55ad4-581e-4c70-d0b4-4fd0146b9147"
      },
      "source": [
        "display(dataset.head())"
      ],
      "execution_count": 29,
      "outputs": [
        {
          "output_type": "display_data",
          "data": {
            "text/html": [
              "<div>\n",
              "<style scoped>\n",
              "    .dataframe tbody tr th:only-of-type {\n",
              "        vertical-align: middle;\n",
              "    }\n",
              "\n",
              "    .dataframe tbody tr th {\n",
              "        vertical-align: top;\n",
              "    }\n",
              "\n",
              "    .dataframe thead th {\n",
              "        text-align: right;\n",
              "    }\n",
              "</style>\n",
              "<table border=\"1\" class=\"dataframe\">\n",
              "  <thead>\n",
              "    <tr style=\"text-align: right;\">\n",
              "      <th></th>\n",
              "      <th>PassengerId</th>\n",
              "      <th>Survived</th>\n",
              "      <th>Pclass</th>\n",
              "      <th>Name</th>\n",
              "      <th>Sex</th>\n",
              "      <th>Age</th>\n",
              "      <th>SibSp</th>\n",
              "      <th>Parch</th>\n",
              "      <th>Ticket</th>\n",
              "      <th>Fare</th>\n",
              "      <th>Title</th>\n",
              "      <th>Cabin_A</th>\n",
              "      <th>Cabin_B</th>\n",
              "      <th>Cabin_C</th>\n",
              "      <th>Cabin_D</th>\n",
              "      <th>Cabin_E</th>\n",
              "      <th>Cabin_F</th>\n",
              "      <th>Cabin_G</th>\n",
              "      <th>Cabin_N</th>\n",
              "      <th>Embarked_C</th>\n",
              "      <th>Embarked_Q</th>\n",
              "      <th>Embarked_S</th>\n",
              "    </tr>\n",
              "  </thead>\n",
              "  <tbody>\n",
              "    <tr>\n",
              "      <th>0</th>\n",
              "      <td>1</td>\n",
              "      <td>0</td>\n",
              "      <td>3</td>\n",
              "      <td>Braund, Mr. Owen Harris</td>\n",
              "      <td>0</td>\n",
              "      <td>22.0</td>\n",
              "      <td>1</td>\n",
              "      <td>0</td>\n",
              "      <td>A/5 21171</td>\n",
              "      <td>7.2500</td>\n",
              "      <td>mr</td>\n",
              "      <td>0</td>\n",
              "      <td>0</td>\n",
              "      <td>0</td>\n",
              "      <td>0</td>\n",
              "      <td>0</td>\n",
              "      <td>0</td>\n",
              "      <td>0</td>\n",
              "      <td>1</td>\n",
              "      <td>0</td>\n",
              "      <td>0</td>\n",
              "      <td>1</td>\n",
              "    </tr>\n",
              "    <tr>\n",
              "      <th>1</th>\n",
              "      <td>2</td>\n",
              "      <td>1</td>\n",
              "      <td>1</td>\n",
              "      <td>Cumings, Mrs. John Bradley (Florence Briggs Th...</td>\n",
              "      <td>1</td>\n",
              "      <td>38.0</td>\n",
              "      <td>1</td>\n",
              "      <td>0</td>\n",
              "      <td>PC 17599</td>\n",
              "      <td>71.2833</td>\n",
              "      <td>mrs</td>\n",
              "      <td>0</td>\n",
              "      <td>0</td>\n",
              "      <td>1</td>\n",
              "      <td>0</td>\n",
              "      <td>0</td>\n",
              "      <td>0</td>\n",
              "      <td>0</td>\n",
              "      <td>0</td>\n",
              "      <td>1</td>\n",
              "      <td>0</td>\n",
              "      <td>0</td>\n",
              "    </tr>\n",
              "    <tr>\n",
              "      <th>2</th>\n",
              "      <td>3</td>\n",
              "      <td>1</td>\n",
              "      <td>3</td>\n",
              "      <td>Heikkinen, Miss. Laina</td>\n",
              "      <td>1</td>\n",
              "      <td>26.0</td>\n",
              "      <td>0</td>\n",
              "      <td>0</td>\n",
              "      <td>STON/O2. 3101282</td>\n",
              "      <td>7.9250</td>\n",
              "      <td>miss</td>\n",
              "      <td>0</td>\n",
              "      <td>0</td>\n",
              "      <td>0</td>\n",
              "      <td>0</td>\n",
              "      <td>0</td>\n",
              "      <td>0</td>\n",
              "      <td>0</td>\n",
              "      <td>1</td>\n",
              "      <td>0</td>\n",
              "      <td>0</td>\n",
              "      <td>1</td>\n",
              "    </tr>\n",
              "    <tr>\n",
              "      <th>3</th>\n",
              "      <td>4</td>\n",
              "      <td>1</td>\n",
              "      <td>1</td>\n",
              "      <td>Futrelle, Mrs. Jacques Heath (Lily May Peel)</td>\n",
              "      <td>1</td>\n",
              "      <td>35.0</td>\n",
              "      <td>1</td>\n",
              "      <td>0</td>\n",
              "      <td>113803</td>\n",
              "      <td>53.1000</td>\n",
              "      <td>mrs</td>\n",
              "      <td>0</td>\n",
              "      <td>0</td>\n",
              "      <td>1</td>\n",
              "      <td>0</td>\n",
              "      <td>0</td>\n",
              "      <td>0</td>\n",
              "      <td>0</td>\n",
              "      <td>0</td>\n",
              "      <td>0</td>\n",
              "      <td>0</td>\n",
              "      <td>1</td>\n",
              "    </tr>\n",
              "    <tr>\n",
              "      <th>4</th>\n",
              "      <td>5</td>\n",
              "      <td>0</td>\n",
              "      <td>3</td>\n",
              "      <td>Allen, Mr. William Henry</td>\n",
              "      <td>0</td>\n",
              "      <td>35.0</td>\n",
              "      <td>0</td>\n",
              "      <td>0</td>\n",
              "      <td>373450</td>\n",
              "      <td>8.0500</td>\n",
              "      <td>mr</td>\n",
              "      <td>0</td>\n",
              "      <td>0</td>\n",
              "      <td>0</td>\n",
              "      <td>0</td>\n",
              "      <td>0</td>\n",
              "      <td>0</td>\n",
              "      <td>0</td>\n",
              "      <td>1</td>\n",
              "      <td>0</td>\n",
              "      <td>0</td>\n",
              "      <td>1</td>\n",
              "    </tr>\n",
              "  </tbody>\n",
              "</table>\n",
              "</div>"
            ],
            "text/plain": [
              "   PassengerId  Survived  Pclass  ... Embarked_C  Embarked_Q  Embarked_S\n",
              "0            1         0       3  ...          0           0           1\n",
              "1            2         1       1  ...          1           0           0\n",
              "2            3         1       3  ...          0           0           1\n",
              "3            4         1       1  ...          0           0           1\n",
              "4            5         0       3  ...          0           0           1\n",
              "\n",
              "[5 rows x 22 columns]"
            ]
          },
          "metadata": {
            "tags": []
          }
        }
      ]
    },
    {
      "cell_type": "code",
      "metadata": {
        "colab": {
          "base_uri": "https://localhost:8080/",
          "height": 1000
        },
        "id": "wSNb4xiVrSdQ",
        "outputId": "31851b07-3d71-482d-b79c-b5d9f5e28035"
      },
      "source": [
        "dataset.hist(figsize=(20,20))\n",
        "plt.show()"
      ],
      "execution_count": 30,
      "outputs": [
        {
          "output_type": "display_data",
          "data": {
            "image/png": "[encoded data removed]",
            "text/plain": [
              "<Figure size 1440x1440 with 20 Axes>"
            ]
          },
          "metadata": {
            "tags": [],
            "needs_background": "light"
          }
        }
      ]
    },
    {
      "cell_type": "code",
      "metadata": {
        "colab": {
          "base_uri": "https://localhost:8080/"
        },
        "id": "l7Ci1l_DrSdR",
        "outputId": "7a50fc57-53ee-44f7-f1b9-b7d06254941f"
      },
      "source": [
        "dataset.info()"
      ],
      "execution_count": 31,
      "outputs": [
        {
          "output_type": "stream",
          "text": [
            "<class 'pandas.core.frame.DataFrame'>\n",
            "RangeIndex: 891 entries, 0 to 890\n",
            "Data columns (total 22 columns):\n",
            " #   Column       Non-Null Count  Dtype  \n",
            "---  ------       --------------  -----  \n",
            " 0   PassengerId  891 non-null    int64  \n",
            " 1   Survived     891 non-null    int64  \n",
            " 2   Pclass       891 non-null    int64  \n",
            " 3   Name         891 non-null    object \n",
            " 4   Sex          891 non-null    int64  \n",
            " 5   Age          891 non-null    float64\n",
            " 6   SibSp        891 non-null    int64  \n",
            " 7   Parch        891 non-null    int64  \n",
            " 8   Ticket       891 non-null    object \n",
            " 9   Fare         891 non-null    float64\n",
            " 10  Title        891 non-null    object \n",
            " 11  Cabin_A      891 non-null    uint8  \n",
            " 12  Cabin_B      891 non-null    uint8  \n",
            " 13  Cabin_C      891 non-null    uint8  \n",
            " 14  Cabin_D      891 non-null    uint8  \n",
            " 15  Cabin_E      891 non-null    uint8  \n",
            " 16  Cabin_F      891 non-null    uint8  \n",
            " 17  Cabin_G      891 non-null    uint8  \n",
            " 18  Cabin_N      891 non-null    uint8  \n",
            " 19  Embarked_C   891 non-null    uint8  \n",
            " 20  Embarked_Q   891 non-null    uint8  \n",
            " 21  Embarked_S   891 non-null    uint8  \n",
            "dtypes: float64(2), int64(6), object(3), uint8(11)\n",
            "memory usage: 86.3+ KB\n"
          ],
          "name": "stdout"
        }
      ]
    },
    {
      "cell_type": "markdown",
      "metadata": {
        "id": "PAR5GpnprSdS"
      },
      "source": [
        "#### Removendo colunas categoricas"
      ]
    },
    {
      "cell_type": "code",
      "metadata": {
        "id": "72AwtwiorSdT"
      },
      "source": [
        "dataset.drop('PassengerId', axis=1, inplace=True)\n",
        "dataset.drop('Name', axis=1, inplace=True)\n",
        "dataset.drop('Ticket', axis=1, inplace=True)"
      ],
      "execution_count": 32,
      "outputs": []
    },
    {
      "cell_type": "markdown",
      "metadata": {
        "id": "h19dqoZvrSdU"
      },
      "source": [
        "#### Dataset final"
      ]
    },
    {
      "cell_type": "code",
      "metadata": {
        "colab": {
          "base_uri": "https://localhost:8080/",
          "height": 224
        },
        "id": "erFaTE8ZrSdU",
        "outputId": "2ad2eb51-376c-4190-8e47-3c19cc55ee44"
      },
      "source": [
        "display(dataset.head())"
      ],
      "execution_count": 33,
      "outputs": [
        {
          "output_type": "display_data",
          "data": {
            "text/html": [
              "<div>\n",
              "<style scoped>\n",
              "    .dataframe tbody tr th:only-of-type {\n",
              "        vertical-align: middle;\n",
              "    }\n",
              "\n",
              "    .dataframe tbody tr th {\n",
              "        vertical-align: top;\n",
              "    }\n",
              "\n",
              "    .dataframe thead th {\n",
              "        text-align: right;\n",
              "    }\n",
              "</style>\n",
              "<table border=\"1\" class=\"dataframe\">\n",
              "  <thead>\n",
              "    <tr style=\"text-align: right;\">\n",
              "      <th></th>\n",
              "      <th>Survived</th>\n",
              "      <th>Pclass</th>\n",
              "      <th>Sex</th>\n",
              "      <th>Age</th>\n",
              "      <th>SibSp</th>\n",
              "      <th>Parch</th>\n",
              "      <th>Fare</th>\n",
              "      <th>Title</th>\n",
              "      <th>Cabin_A</th>\n",
              "      <th>Cabin_B</th>\n",
              "      <th>Cabin_C</th>\n",
              "      <th>Cabin_D</th>\n",
              "      <th>Cabin_E</th>\n",
              "      <th>Cabin_F</th>\n",
              "      <th>Cabin_G</th>\n",
              "      <th>Cabin_N</th>\n",
              "      <th>Embarked_C</th>\n",
              "      <th>Embarked_Q</th>\n",
              "      <th>Embarked_S</th>\n",
              "    </tr>\n",
              "  </thead>\n",
              "  <tbody>\n",
              "    <tr>\n",
              "      <th>0</th>\n",
              "      <td>0</td>\n",
              "      <td>3</td>\n",
              "      <td>0</td>\n",
              "      <td>22.0</td>\n",
              "      <td>1</td>\n",
              "      <td>0</td>\n",
              "      <td>7.2500</td>\n",
              "      <td>mr</td>\n",
              "      <td>0</td>\n",
              "      <td>0</td>\n",
              "      <td>0</td>\n",
              "      <td>0</td>\n",
              "      <td>0</td>\n",
              "      <td>0</td>\n",
              "      <td>0</td>\n",
              "      <td>1</td>\n",
              "      <td>0</td>\n",
              "      <td>0</td>\n",
              "      <td>1</td>\n",
              "    </tr>\n",
              "    <tr>\n",
              "      <th>1</th>\n",
              "      <td>1</td>\n",
              "      <td>1</td>\n",
              "      <td>1</td>\n",
              "      <td>38.0</td>\n",
              "      <td>1</td>\n",
              "      <td>0</td>\n",
              "      <td>71.2833</td>\n",
              "      <td>mrs</td>\n",
              "      <td>0</td>\n",
              "      <td>0</td>\n",
              "      <td>1</td>\n",
              "      <td>0</td>\n",
              "      <td>0</td>\n",
              "      <td>0</td>\n",
              "      <td>0</td>\n",
              "      <td>0</td>\n",
              "      <td>1</td>\n",
              "      <td>0</td>\n",
              "      <td>0</td>\n",
              "    </tr>\n",
              "    <tr>\n",
              "      <th>2</th>\n",
              "      <td>1</td>\n",
              "      <td>3</td>\n",
              "      <td>1</td>\n",
              "      <td>26.0</td>\n",
              "      <td>0</td>\n",
              "      <td>0</td>\n",
              "      <td>7.9250</td>\n",
              "      <td>miss</td>\n",
              "      <td>0</td>\n",
              "      <td>0</td>\n",
              "      <td>0</td>\n",
              "      <td>0</td>\n",
              "      <td>0</td>\n",
              "      <td>0</td>\n",
              "      <td>0</td>\n",
              "      <td>1</td>\n",
              "      <td>0</td>\n",
              "      <td>0</td>\n",
              "      <td>1</td>\n",
              "    </tr>\n",
              "    <tr>\n",
              "      <th>3</th>\n",
              "      <td>1</td>\n",
              "      <td>1</td>\n",
              "      <td>1</td>\n",
              "      <td>35.0</td>\n",
              "      <td>1</td>\n",
              "      <td>0</td>\n",
              "      <td>53.1000</td>\n",
              "      <td>mrs</td>\n",
              "      <td>0</td>\n",
              "      <td>0</td>\n",
              "      <td>1</td>\n",
              "      <td>0</td>\n",
              "      <td>0</td>\n",
              "      <td>0</td>\n",
              "      <td>0</td>\n",
              "      <td>0</td>\n",
              "      <td>0</td>\n",
              "      <td>0</td>\n",
              "      <td>1</td>\n",
              "    </tr>\n",
              "    <tr>\n",
              "      <th>4</th>\n",
              "      <td>0</td>\n",
              "      <td>3</td>\n",
              "      <td>0</td>\n",
              "      <td>35.0</td>\n",
              "      <td>0</td>\n",
              "      <td>0</td>\n",
              "      <td>8.0500</td>\n",
              "      <td>mr</td>\n",
              "      <td>0</td>\n",
              "      <td>0</td>\n",
              "      <td>0</td>\n",
              "      <td>0</td>\n",
              "      <td>0</td>\n",
              "      <td>0</td>\n",
              "      <td>0</td>\n",
              "      <td>1</td>\n",
              "      <td>0</td>\n",
              "      <td>0</td>\n",
              "      <td>1</td>\n",
              "    </tr>\n",
              "  </tbody>\n",
              "</table>\n",
              "</div>"
            ],
            "text/plain": [
              "   Survived  Pclass  Sex   Age  ...  Cabin_N  Embarked_C  Embarked_Q Embarked_S\n",
              "0         0       3    0  22.0  ...        1           0           0          1\n",
              "1         1       1    1  38.0  ...        0           1           0          0\n",
              "2         1       3    1  26.0  ...        1           0           0          1\n",
              "3         1       1    1  35.0  ...        0           0           0          1\n",
              "4         0       3    0  35.0  ...        1           0           0          1\n",
              "\n",
              "[5 rows x 19 columns]"
            ]
          },
          "metadata": {
            "tags": []
          }
        }
      ]
    },
    {
      "cell_type": "markdown",
      "metadata": {
        "id": "yRJD0RiIrSdV"
      },
      "source": [
        "### Análise gráfica"
      ]
    },
    {
      "cell_type": "code",
      "metadata": {
        "colab": {
          "base_uri": "https://localhost:8080/",
          "height": 350
        },
        "id": "HmgOlYHnrSdV",
        "outputId": "98ff6a01-d7e2-4b68-b215-40b1b288b70e"
      },
      "source": [
        "plt.figure(figsize=(15,5))\n",
        "plt.subplot(1,2,1)\n",
        "sns.countplot(x=\"Survived\", data=dataset)\n",
        "plt.title('Number of passenger Survived');"
      ],
      "execution_count": 34,
      "outputs": [
        {
          "output_type": "display_data",
          "data": {
            "image/png": "[encoded data removed]",
            "text/plain": [
              "<Figure size 1080x360 with 1 Axes>"
            ]
          },
          "metadata": {
            "tags": [],
            "needs_background": "light"
          }
        }
      ]
    },
    {
      "cell_type": "code",
      "metadata": {
        "colab": {
          "base_uri": "https://localhost:8080/",
          "height": 350
        },
        "id": "94uVHRNgrSdW",
        "outputId": "268440f8-95a8-4505-d3b5-4e2244f87965"
      },
      "source": [
        "plt.figure(figsize=(15,5))\n",
        "plt.subplot(1,2,2)\n",
        "sns.countplot(x=\"Survived\", hue=\"Sex\", data=dataset)\n",
        "plt.title('Number of passenger Survived');"
      ],
      "execution_count": 35,
      "outputs": [
        {
          "output_type": "display_data",
          "data": {
            "image/png": "[encoded data removed]",
            "text/plain": [
              "<Figure size 1080x360 with 1 Axes>"
            ]
          },
          "metadata": {
            "tags": [],
            "needs_background": "light"
          }
        }
      ]
    },
    {
      "cell_type": "code",
      "metadata": {
        "colab": {
          "base_uri": "https://localhost:8080/",
          "height": 350
        },
        "id": "bDtf3kdorSdW",
        "outputId": "ab8b7734-2884-4d16-b167-c28a17f9936b"
      },
      "source": [
        "plt.figure(figsize=(15,5))\n",
        "plt.subplot(1,3,3)\n",
        "sns.countplot(x=\"Survived\", hue=\"Pclass\", data=dataset)\n",
        "plt.title('Number of passenger Survived');"
      ],
      "execution_count": 36,
      "outputs": [
        {
          "output_type": "display_data",
          "data": {
            "image/png": "[encoded data removed]",
            "text/plain": [
              "<Figure size 1080x360 with 1 Axes>"
            ]
          },
          "metadata": {
            "tags": [],
            "needs_background": "light"
          }
        }
      ]
    },
    {
      "cell_type": "code",
      "metadata": {
        "colab": {
          "base_uri": "https://localhost:8080/",
          "height": 242
        },
        "id": "PBosOYUbrSdX",
        "outputId": "47ef84f3-4947-461a-fe1d-13b6f5cc5db3"
      },
      "source": [
        "#plot distributions of age of passengers who survived or did not survive\n",
        "a = sns.FacetGrid( dataset, hue = 'Survived', aspect=4 )\n",
        "a.map(sns.kdeplot, 'Age', shade= True )\n",
        "a.set(xlim=(0 , dataset['Age'].max()))\n",
        "a.add_legend()"
      ],
      "execution_count": 37,
      "outputs": [
        {
          "output_type": "execute_result",
          "data": {
            "text/plain": [
              "<seaborn.axisgrid.FacetGrid at 0x7f1d357d7a90>"
            ]
          },
          "metadata": {
            "tags": []
          },
          "execution_count": 37
        },
        {
          "output_type": "display_data",
          "data": {
            "image/png": "[encoded data removed]",
            "text/plain": [
              "<Figure size 915.875x216 with 1 Axes>"
            ]
          },
          "metadata": {
            "tags": [],
            "needs_background": "light"
          }
        }
      ]
    },
    {
      "cell_type": "markdown",
      "metadata": {
        "id": "EihivytNrSdX"
      },
      "source": [
        "## 4. Análise Exploratória do Dataset"
      ]
    },
    {
      "cell_type": "markdown",
      "metadata": {
        "id": "Z8SOSdRjrSdX"
      },
      "source": [
        "## 0. Testando predição"
      ]
    },
    {
      "cell_type": "markdown",
      "metadata": {
        "id": "MJ3IGaGZt4pe"
      },
      "source": [
        "Sessão em fase de desenvolvimento"
      ]
    },
    {
      "cell_type": "code",
      "metadata": {
        "id": "89lDDTc3rSdY",
        "outputId": "f6e1b0aa-7860-4740-9e42-d5c9e51b906a"
      },
      "source": [
        "array = dataset.values\n",
        "X = array[:,1:]\n",
        "y = array[:,:1]\n",
        "X_train, X_validation, Y_train, Y_validation = train_test_split(X, y, test_size=0.25, random_state=0, shuffle=True)\n",
        "model = LogisticRegression()\n",
        "model.fit(X_train, Y_train)\n",
        "predictions_train = model.predict(X_train)\n",
        "predictions_validation = model.predict(X_validation)\n",
        "print(sklearn.metrics.accuracy_score(Y_train, predictions_train))\n",
        "print(sklearn.metrics.accuracy_score(Y_validation, predictions_validation))"
      ],
      "execution_count": null,
      "outputs": [
        {
          "output_type": "stream",
          "text": [
            "0.8188622754491018\n",
            "0.8026905829596412\n"
          ],
          "name": "stdout"
        },
        {
          "output_type": "stream",
          "text": [
            "c:\\estudo\\disciplinaslab\\venv\\lib\\site-packages\\sklearn\\utils\\validation.py:63: DataConversionWarning: A column-vector y was passed when a 1d array was expected. Please change the shape of y to (n_samples, ), for example using ravel().\n",
            "  return f(*args, **kwargs)\n",
            "c:\\estudo\\disciplinaslab\\venv\\lib\\site-packages\\sklearn\\linear_model\\_logistic.py:763: ConvergenceWarning: lbfgs failed to converge (status=1):\n",
            "STOP: TOTAL NO. of ITERATIONS REACHED LIMIT.\n",
            "\n",
            "Increase the number of iterations (max_iter) or scale the data as shown in:\n",
            "    https://scikit-learn.org/stable/modules/preprocessing.html\n",
            "Please also refer to the documentation for alternative solver options:\n",
            "    https://scikit-learn.org/stable/modules/linear_model.html#logistic-regression\n",
            "  n_iter_i = _check_optimize_result(\n"
          ],
          "name": "stderr"
        }
      ]
    },
    {
      "cell_type": "code",
      "metadata": {
        "id": "F3L-WSSwrSdY"
      },
      "source": [
        ""
      ],
      "execution_count": null,
      "outputs": []
    },
    {
      "cell_type": "code",
      "metadata": {
        "id": "weHi7s2trSdZ"
      },
      "source": [
        ""
      ],
      "execution_count": null,
      "outputs": []
    }
  ]
}